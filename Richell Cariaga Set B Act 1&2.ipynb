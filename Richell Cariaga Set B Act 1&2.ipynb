{
 "cells": [
  {
   "cell_type": "code",
   "execution_count": 33,
   "id": "facd5ec2-d301-407d-8c4d-e849ace54074",
   "metadata": {},
   "outputs": [
    {
     "name": "stdin",
     "output_type": "stream",
     "text": [
      "Enter a word or phrase to check if it's a palindrome:  hey\n"
     ]
    },
    {
     "name": "stdout",
     "output_type": "stream",
     "text": [
      "❌ It is not a palindrome.\n"
     ]
    }
   ],
   "source": [
    "# Activity 1: Set B\n",
    "def is_palindrome(text):\n",
    "    text = text.replace(\" \", \"\").lower()  # remove spaces and ignore case\n",
    "    return text == text[::-1]\n",
    "\n",
    "\n",
    "# User input\n",
    "text_input = input(\"Enter a word or phrase to check if it's a palindrome: \")\n",
    "\n",
    "if is_palindrome(text_input):\n",
    "    print(\"✅ It is a palindrome!\")\n",
    "else:\n",
    "    print(\"❌ It is not a palindrome.\")"
   ]
  },
  {
   "cell_type": "code",
   "execution_count": 25,
   "id": "0ad6d646-7322-4910-83b8-0cb965b067b3",
   "metadata": {},
   "outputs": [
    {
     "name": "stdin",
     "output_type": "stream",
     "text": [
      "Enter a score (0-100) to get the grade:  90\n"
     ]
    },
    {
     "name": "stdout",
     "output_type": "stream",
     "text": [
      "Your grade is: A\n"
     ]
    }
   ],
   "source": [
    "def get_grade(score):\n",
    "    if 90 <= score <= 100:\n",
    "        return \"A\"\n",
    "    elif 80 <= score <= 89:\n",
    "        return \"B\"\n",
    "    elif 70 <= score <= 79:\n",
    "        return \"C\"\n",
    "    elif 60 <= score <= 69:\n",
    "        return \"D\"\n",
    "    else:\n",
    "        return \"F\"\n",
    "\n",
    "\n",
    "# User input\n",
    "score_input = float(input(\"Enter a score (0-100) to get the grade: \"))\n",
    "print(f\"Your grade is: {get_grade(score_input)}\")"
   ]
  },
  {
   "cell_type": "code",
   "execution_count": 27,
   "id": "dfaab6ca-4257-4859-97b0-a538b31be3e3",
   "metadata": {},
   "outputs": [
    {
     "name": "stdout",
     "output_type": "stream",
     "text": [
      "Enter numbers to multiply (separated by spaces): \n"
     ]
    },
    {
     "name": "stdin",
     "output_type": "stream",
     "text": [
      "→  10 20 30\n"
     ]
    },
    {
     "name": "stdout",
     "output_type": "stream",
     "text": [
      "The product of the numbers is: 6000.0\n"
     ]
    }
   ],
   "source": [
    "def multiply_all(*args):\n",
    "    product = 1\n",
    "    for num in args:\n",
    "        product *= num\n",
    "    return product\n",
    "\n",
    "\n",
    "# User input\n",
    "print(\"Enter numbers to multiply (separated by spaces): \")\n",
    "numbers = input(\"→ \").split()\n",
    "numbers = [float(n) for n in numbers]\n",
    "\n",
    "print(f\"The product of the numbers is: {multiply_all(*numbers)}\")"
   ]
  },
  {
   "cell_type": "code",
   "execution_count": 31,
   "id": "ba9a5569-e6e0-4b3c-9311-3ce59bfcbbea",
   "metadata": {},
   "outputs": [
    {
     "name": "stdin",
     "output_type": "stream",
     "text": [
      "Enter a title:  I Hate Humans\n",
      "Enter field name (or type 'done' to finish):  a\n",
      "Enter value for 'a':  10\n",
      "Enter field name (or type 'done' to finish):  b\n",
      "Enter value for 'b':  20\n",
      "Enter field name (or type 'done' to finish):  done\n"
     ]
    },
    {
     "name": "stdout",
     "output_type": "stream",
     "text": [
      "\n",
      "Formatted Output:\n",
      "I HATE HUMANS\n",
      "a: 10\n",
      "b: 20\n"
     ]
    }
   ],
   "source": [
    "def print_formatted_info(title, **kwargs):\n",
    "    print(title.upper())\n",
    "    for key, value in kwargs.items():\n",
    "        print(f\"{key}: {value}\")\n",
    "\n",
    "\n",
    "# User input\n",
    "title = input(\"Enter a title: \")\n",
    "\n",
    "info = {}\n",
    "while True:\n",
    "    key = input(\"Enter field name (or type 'done' to finish): \")\n",
    "    if key.lower() == \"done\":\n",
    "        break\n",
    "    value = input(f\"Enter value for '{key}': \")\n",
    "    info[key] = value\n",
    "\n",
    "print(\"\\nFormatted Output:\")\n",
    "print_formatted_info(title, **info)"
   ]
  },
  {
   "cell_type": "code",
   "execution_count": 35,
   "id": "dc762aff-fcb5-4653-afda-b728c6d420e3",
   "metadata": {},
   "outputs": [
    {
     "name": "stdin",
     "output_type": "stream",
     "text": [
      "Enter a log line (e.g., 'ERROR 2024-10-06 14:35:01 Database connection failed'):  ERROR 2024-10-06 14:35:01 Database connection failed\n"
     ]
    },
    {
     "name": "stdout",
     "output_type": "stream",
     "text": [
      "Log Level: ERROR\n",
      "Message: Database connection failed\n"
     ]
    }
   ],
   "source": [
    "# Activity 2: Set B\n",
    "log_line = input(\"Enter a log line (e.g., 'ERROR 2024-10-06 14:35:01 Database connection failed'): \")\n",
    "parts = log_line.split(\" \", 3)\n",
    "log_level = parts[0]\n",
    "message = parts[3]\n",
    "print(\"Log Level:\", log_level)\n",
    "print(\"Message:\", message)"
   ]
  },
  {
   "cell_type": "code",
   "execution_count": 37,
   "id": "be0ddb3b-39f3-482b-81f4-ee81073f97cb",
   "metadata": {},
   "outputs": [
    {
     "name": "stdin",
     "output_type": "stream",
     "text": [
      "Enter the log level (e.g., ERROR):  ERROR\n",
      "Enter the message (e.g., Database connection failed):  Database connection failed\n"
     ]
    },
    {
     "name": "stdout",
     "output_type": "stream",
     "text": [
      "[ERROR] -> Database connection failed\n"
     ]
    }
   ],
   "source": [
    "log_level = input(\"Enter the log level (e.g., ERROR): \")\n",
    "message = input(\"Enter the message (e.g., Database connection failed): \")\n",
    "formatted_summary = \"[{}] -> {}\".format(log_level, message)\n",
    "print(formatted_summary)"
   ]
  },
  {
   "cell_type": "code",
   "execution_count": 39,
   "id": "ae47a1d6-b26e-4f99-ac75-2e75b5a52aa1",
   "metadata": {},
   "outputs": [
    {
     "name": "stdin",
     "output_type": "stream",
     "text": [
      "Enter a long text that may contain emails:  bravegaray@gmail.com\n"
     ]
    },
    {
     "name": "stdout",
     "output_type": "stream",
     "text": [
      "Emails found: ['bravegaray@gmail.com']\n"
     ]
    }
   ],
   "source": [
    "def find_all_emails(text):\n",
    "    words = text.split()\n",
    "    emails = [word for word in words if \"@\" in word]\n",
    "    return emails\n",
    "\n",
    "text_input = input(\"Enter a long text that may contain emails: \")\n",
    "emails_found = find_all_emails(text_input)\n",
    "\n",
    "if emails_found:\n",
    "    print(\"Emails found:\", emails_found)\n",
    "else:\n",
    "    print(\"No emails detected.\")"
   ]
  },
  {
   "cell_type": "code",
   "execution_count": null,
   "id": "58f3fef1-6871-4547-b462-92307346641e",
   "metadata": {},
   "outputs": [],
   "source": []
  }
 ],
 "metadata": {
  "kernelspec": {
   "display_name": "Python 3 (ipykernel)",
   "language": "python",
   "name": "python3"
  },
  "language_info": {
   "codemirror_mode": {
    "name": "ipython",
    "version": 3
   },
   "file_extension": ".py",
   "mimetype": "text/x-python",
   "name": "python",
   "nbconvert_exporter": "python",
   "pygments_lexer": "ipython3",
   "version": "3.12.7"
  }
 },
 "nbformat": 4,
 "nbformat_minor": 5
}
