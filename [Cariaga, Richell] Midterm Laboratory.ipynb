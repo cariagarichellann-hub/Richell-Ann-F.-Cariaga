{
 "cells": [
  {
   "cell_type": "code",
   "execution_count": 4,
   "id": "ba48f7bc-149e-4828-8fcf-21a23741d10d",
   "metadata": {},
   "outputs": [
    {
     "name": "stdout",
     "output_type": "stream",
     "text": [
      "\n",
      "--- Student 1 ---\n"
     ]
    },
    {
     "name": "stdin",
     "output_type": "stream",
     "text": [
      "Enter student name:  chell\n",
      "Enter student grade:  78\n"
     ]
    },
    {
     "name": "stdout",
     "output_type": "stream",
     "text": [
      "Added chell with grade 78\n",
      "\n",
      "--- Student 2 ---\n"
     ]
    },
    {
     "name": "stdin",
     "output_type": "stream",
     "text": [
      "Enter student name:  ann\n",
      "Enter student grade:  90\n"
     ]
    },
    {
     "name": "stdout",
     "output_type": "stream",
     "text": [
      "Added ann with grade 90\n",
      "\n",
      "--- Student 3 ---\n"
     ]
    },
    {
     "name": "stdin",
     "output_type": "stream",
     "text": [
      "Enter student name:  shell\n",
      "Enter student grade:  95\n"
     ]
    },
    {
     "name": "stdout",
     "output_type": "stream",
     "text": [
      "Added shell with grade 95\n",
      "\n",
      "Student Grades:\n",
      "chell: 78\n",
      "ann: 90\n",
      "shell: 95\n",
      "\n",
      "Average Grade: 87.7\n",
      "Highest Grade: 95\n"
     ]
    }
   ],
   "source": [
    "# Task 1.1: Student Grade Manager\n",
    "\n",
    "# Step 1:\n",
    "student_names = []\n",
    "student_grades = []\n",
    "\n",
    "# Step 2:\n",
    "\n",
    "def add_student(name, grade):\n",
    "    student_names.append(name)\n",
    "    student_grades.append(grade)\n",
    "    print(f\"Added {name} with grade {int(grade)}\")\n",
    "\n",
    "def display_students():\n",
    "    print(\"\\nStudent Grades:\")\n",
    "    for i in range(len(student_names)):\n",
    "        print(f\"{student_names[i]}: {int(student_grades[i])}\")\n",
    "\n",
    "def average_grade():\n",
    "    avg = sum(student_grades) / len(student_grades)\n",
    "    return avg\n",
    "\n",
    "def highest_grade():\n",
    "    return max(student_grades)\n",
    "\n",
    "# Step 3: \n",
    "for i in range(3):\n",
    "    print(f\"\\n--- Student {i+1} ---\")\n",
    "    name = input(\"Enter student name: \")\n",
    "    grade = float(input(\"Enter student grade: \"))\n",
    "    add_student(name, grade)\n",
    "\n",
    "# Step 4: \n",
    "display_students()\n",
    "print(f\"\\nAverage Grade: {average_grade():.1f}\")\n",
    "print(f\"Highest Grade: {int(highest_grade())}\")\n"
   ]
  },
  {
   "cell_type": "code",
   "execution_count": 6,
   "id": "4d7e9e94-21c1-4ad0-9599-a300fefd6e6a",
   "metadata": {},
   "outputs": [
    {
     "name": "stdout",
     "output_type": "stream",
     "text": [
      "Original List: [5, 2, 8, 1, 9, 3]\n",
      "Sorted List: [1, 2, 3, 5, 8, 9]\n",
      "Sum: 28\n",
      "Average: 4.666666666666667\n",
      "Maximum: 9\n",
      "Minimum: 1\n",
      "Length of List: 6\n"
     ]
    }
   ],
   "source": [
    "# Task 1.2: List Operations Practice\n",
    "\n",
    "numbers = [5, 2, 8, 1, 9, 3]\n",
    "print(\"Original List:\", numbers)\n",
    "\n",
    "numbers.sort()\n",
    "print(\"Sorted List:\", numbers)\n",
    "\n",
    "total = sum(numbers)\n",
    "print(\"Sum:\", total)\n",
    "\n",
    "average = total / len(numbers)\n",
    "print(\"Average:\", average)\n",
    "\n",
    "print(\"Maximum:\", max(numbers))\n",
    "print(\"Minimum:\", min(numbers))\n",
    "\n",
    "print(\"Length of List:\", len(numbers))\n"
   ]
  },
  {
   "cell_type": "code",
   "execution_count": 12,
   "id": "12ca2cc1-25a8-4ac0-8636-68350fc07aaa",
   "metadata": {},
   "outputs": [
    {
     "name": "stdout",
     "output_type": "stream",
     "text": [
      "Enter coordinates for Point A:\n"
     ]
    },
    {
     "name": "stdin",
     "output_type": "stream",
     "text": [
      "x1:  2\n",
      "y1:  3\n"
     ]
    },
    {
     "name": "stdout",
     "output_type": "stream",
     "text": [
      "\n",
      "Enter coordinates for Point B:\n"
     ]
    },
    {
     "name": "stdin",
     "output_type": "stream",
     "text": [
      "x2:  8\n",
      "y2:  7\n"
     ]
    },
    {
     "name": "stdout",
     "output_type": "stream",
     "text": [
      "\n",
      "Points: ((2.0, 3.0), (8.0, 7.0))\n",
      "Distance between A and B: 7.21\n",
      "Midpoint between A and B: (5.0, 5.0)\n",
      "\n",
      "Tuples are immutable! You cannot change their values.\n"
     ]
    }
   ],
   "source": [
    "# Task 2.1: Coordinate System with Tuples\n",
    "\n",
    "import math\n",
    "\n",
    "# Input points from user\n",
    "print(\"Enter coordinates for Point A:\")\n",
    "x1 = float(input(\"x1: \"))\n",
    "y1 = float(input(\"y1: \"))\n",
    "\n",
    "print(\"\\nEnter coordinates for Point B:\")\n",
    "x2 = float(input(\"x2: \"))\n",
    "y2 = float(input(\"y2: \"))\n",
    "\n",
    "A = (x1, y1)\n",
    "B = (x2, y2)\n",
    "\n",
    "def distance(p1, p2):\n",
    "    return math.sqrt((p2[0] - p1[0])**2 + (p2[1] - p1[1])**2)\n",
    "\n",
    "def midpoint(p1, p2):\n",
    "    return ((p1[0] + p2[0]) / 2, (p1[1] + p2[1]) / 2)\n",
    "\n",
    "points = (A, B)\n",
    "\n",
    "print(\"\\nPoints:\", points)\n",
    "print(\"Distance between A and B:\", round(distance(A, B), 2))\n",
    "print(\"Midpoint between A and B:\", midpoint(A, B))\n",
    "\n",
    "try:\n",
    "    A[0] = 10\n",
    "except TypeError:\n",
    "    print(\"\\nTuples are immutable! You cannot change their values.\")\n"
   ]
  },
  {
   "cell_type": "code",
   "execution_count": 16,
   "id": "3ba560f4-28b4-4150-9228-37339908f345",
   "metadata": {},
   "outputs": [
    {
     "name": "stdout",
     "output_type": "stream",
     "text": [
      "Enter a text:\n"
     ]
    },
    {
     "name": "stdin",
     "output_type": "stream",
     "text": [
      " Python is a programming language. Python is easy to learn. Python is powerful\n"
     ]
    },
    {
     "name": "stdout",
     "output_type": "stream",
     "text": [
      "\n",
      "Original Text:\n",
      "Python is a programming language. Python is easy to learn. Python is powerful\n",
      "\n",
      "Total Words: 13\n",
      "Unique Words: 9\n",
      "Unique Word Set: {'powerful', 'language', 'python', 'learn', 'programming', 'easy', 'is', 'to', 'a'}\n",
      "\n",
      "Word Frequencies:\n",
      "powerful: 1\n",
      "language: 1\n",
      "python: 3\n",
      "learn: 1\n",
      "programming: 1\n",
      "easy: 1\n",
      "is: 3\n",
      "to: 1\n",
      "a: 1\n"
     ]
    }
   ],
   "source": [
    "# Task 2.2: Unique Word Counter with Sets \n",
    "\n",
    "print(\"Enter a text:\")\n",
    "text = input()\n",
    "\n",
    "words = text.lower().replace(\".\", \"\").split()\n",
    "unique_words = set(words)\n",
    "\n",
    "print(\"\\nOriginal Text:\")\n",
    "print(text)\n",
    "print(\"\\nTotal Words:\", len(words))\n",
    "print(\"Unique Words:\", len(unique_words))\n",
    "print(\"Unique Word Set:\", unique_words)\n",
    "\n",
    "print(\"\\nWord Frequencies:\")\n",
    "for word in unique_words:\n",
    "    print(word + \":\", words.count(word))\n"
   ]
  },
  {
   "cell_type": "code",
   "execution_count": 22,
   "id": "61250538-ce9f-4abe-ba93-43e0b30697cc",
   "metadata": {},
   "outputs": [
    {
     "name": "stdout",
     "output_type": "stream",
     "text": [
      "\n",
      "Enter details for student 1:\n"
     ]
    },
    {
     "name": "stdin",
     "output_type": "stream",
     "text": [
      "Student ID:  0725\n",
      "Name:  richell\n",
      "Grade:  A\n",
      "Major:  BSCS\n"
     ]
    },
    {
     "name": "stdout",
     "output_type": "stream",
     "text": [
      "Added richell with grade A\n",
      "\n",
      "Enter details for student 2:\n"
     ]
    },
    {
     "name": "stdin",
     "output_type": "stream",
     "text": [
      "Student ID:  4567\n",
      "Name:  CHELL\n",
      "Grade:  S\n",
      "Major:  BSCS\n"
     ]
    },
    {
     "name": "stdout",
     "output_type": "stream",
     "text": [
      "Added CHELL with grade S\n",
      "\n",
      "Enter details for student 3:\n"
     ]
    },
    {
     "name": "stdin",
     "output_type": "stream",
     "text": [
      "Student ID:  2345\n",
      "Name:  SHELLY\n",
      "Grade:  B\n",
      "Major:  BSCS\n"
     ]
    },
    {
     "name": "stdout",
     "output_type": "stream",
     "text": [
      "Added SHELLY with grade B\n",
      "\n",
      "All Students:\n",
      "ID: 0725 | Name: richell | Grade: A | Major: BSCS\n",
      "ID: 4567 | Name: CHELL | Grade: S | Major: BSCS\n",
      "ID: 2345 | Name: SHELLY | Grade: B | Major: BSCS\n"
     ]
    }
   ],
   "source": [
    "# Task 3.1: Student Database \n",
    "\n",
    "students = {}\n",
    "\n",
    "for i in range(3):\n",
    "    print(f\"\\nEnter details for student {i+1}:\")\n",
    "    sid = input(\"Student ID: \")\n",
    "    name = input(\"Name: \")\n",
    "    grade = input(\"Grade: \")\n",
    "    major = input(\"Major: \")\n",
    "\n",
    "    students[sid] = {'name': name, 'grade': grade, 'major': major}\n",
    "    print(f\"Added {name} with grade {grade}\")\n",
    "\n",
    "print(\"\\nAll Students:\")\n",
    "for sid, info in students.items():\n",
    "    print(f\"ID: {sid} | Name: {info['name']} | Grade: {info['grade']} | Major: {info['major']}\")\n"
   ]
  },
  {
   "cell_type": "code",
   "execution_count": null,
   "id": "a2def1a7-95f7-45d3-8dee-f86a44d7ba73",
   "metadata": {},
   "outputs": [],
   "source": [
    "# Task 3.2: Word Frequency Counter \n",
    "\n",
    "text = input(\"Enter a short text (2-3 sentences): \")\n",
    "\n",
    "words = text.lower().replace(\".\", \"\").replace(\",\", \"\").split()\n",
    "\n",
    "word_count = {}\n",
    "for w in words:\n",
    "    word_count[w] = word_count.get(w, 0) + 1\n",
    "\n",
    "print(\"\\nWord Frequency:\")\n",
    "for word, count in word_count.items():\n",
    "    print(f\"{word}: {count}\")\n",
    "\n",
    "most_common = max(word_count, key=word_count.get)\n",
    "print(f\"\\nMost Common Word: '{most_common}' ({word_count[most_common]} times)\")\n"
   ]
  },
  {
   "cell_type": "code",
   "execution_count": 1,
   "id": "a114a297-26e9-45bd-bd39-39b1bf281f55",
   "metadata": {},
   "outputs": [
    {
     "name": "stdout",
     "output_type": "stream",
     "text": [
      "=== Task 4.1: Student Records File System ===\n",
      "\n",
      "1. Create Student Records\n",
      "2. Save Records (Pickle)\n",
      "3. Load Records (Pickle)\n",
      "4. Export Records to Text File\n",
      "5. View Current Records\n",
      "0. Exit\n"
     ]
    },
    {
     "name": "stdin",
     "output_type": "stream",
     "text": [
      "Enter your choice:  1\n",
      "\n",
      "Enter student name:  Brave\n",
      "Enter age:  10\n",
      "Enter course:  Information Technology\n",
      "Enter year level:  4\n"
     ]
    },
    {
     "name": "stdout",
     "output_type": "stream",
     "text": [
      "✅ Student added successfully.\n"
     ]
    },
    {
     "name": "stdin",
     "output_type": "stream",
     "text": [
      "Add another student? (y/n):  n\n"
     ]
    },
    {
     "name": "stdout",
     "output_type": "stream",
     "text": [
      "\n",
      "1. Create Student Records\n",
      "2. Save Records (Pickle)\n",
      "3. Load Records (Pickle)\n",
      "4. Export Records to Text File\n",
      "5. View Current Records\n",
      "0. Exit\n"
     ]
    },
    {
     "name": "stdin",
     "output_type": "stream",
     "text": [
      "Enter your choice:  5\n"
     ]
    },
    {
     "name": "stdout",
     "output_type": "stream",
     "text": [
      "\n",
      "📋 Current Records:\n",
      "1. {'Name': 'Brave', 'Age': 10, 'Course': 'Information Technology', 'Year': 4}\n",
      "\n",
      "1. Create Student Records\n",
      "2. Save Records (Pickle)\n",
      "3. Load Records (Pickle)\n",
      "4. Export Records to Text File\n",
      "5. View Current Records\n",
      "0. Exit\n"
     ]
    },
    {
     "name": "stdin",
     "output_type": "stream",
     "text": [
      "Enter your choice:  4\n"
     ]
    },
    {
     "name": "stdout",
     "output_type": "stream",
     "text": [
      "\n",
      "✅ Records successfully exported to 'student_records.txt'.\n",
      "\n",
      "1. Create Student Records\n",
      "2. Save Records (Pickle)\n",
      "3. Load Records (Pickle)\n",
      "4. Export Records to Text File\n",
      "5. View Current Records\n",
      "0. Exit\n"
     ]
    },
    {
     "name": "stdin",
     "output_type": "stream",
     "text": [
      "Enter your choice:  0\n"
     ]
    },
    {
     "name": "stdout",
     "output_type": "stream",
     "text": [
      "\n",
      "👋 Exiting Task 4.1.\n"
     ]
    }
   ],
   "source": [
    "# Task 4.1: Student Records File System\n",
    "import pickle\n",
    "\n",
    "def save_records(records, filename):\n",
    "    \"\"\"Save student records to a pickle file.\"\"\"\n",
    "    try:\n",
    "        with open(filename, 'wb') as file:\n",
    "            pickle.dump(records, file)\n",
    "        print(f\"\\n✅ Records successfully saved to '{filename}'.\")\n",
    "    except Exception as e:\n",
    "        print(f\"❌ Error saving records: {e}\")\n",
    "\n",
    "def load_records(filename):\n",
    "    \"\"\"Load student records from a pickle file.\"\"\"\n",
    "    try:\n",
    "        with open(filename, 'rb') as file:\n",
    "            records = pickle.load(file)\n",
    "        print(f\"\\n✅ Records successfully loaded from '{filename}'.\")\n",
    "        return records\n",
    "    except FileNotFoundError:\n",
    "        print(f\"❌ File '{filename}' not found. Please save records first.\")\n",
    "        return []\n",
    "    except Exception as e:\n",
    "        print(f\"❌ Error loading records: {e}\")\n",
    "        return []\n",
    "\n",
    "def export_to_text(records, filename):\n",
    "    \"\"\"Export student records to a readable text file.\"\"\"\n",
    "    try:\n",
    "        with open(filename, 'w') as file:\n",
    "            file.write(\"=== STUDENT RECORDS ===\\n\")\n",
    "            for i, student in enumerate(records, 1):\n",
    "                file.write(f\"\\nStudent {i}:\\n\")\n",
    "                for key, value in student.items():\n",
    "                    file.write(f\"  {key}: {value}\\n\")\n",
    "        print(f\"\\n✅ Records successfully exported to '{filename}'.\")\n",
    "    except Exception as e:\n",
    "        print(f\"❌ Error exporting records: {e}\")\n",
    "\n",
    "def create_sample_records():\n",
    "    \"\"\"Create student records by user input.\"\"\"\n",
    "    records = []\n",
    "    while True:\n",
    "        try:\n",
    "            name = input(\"\\nEnter student name: \").strip()\n",
    "            if not name:\n",
    "                raise ValueError(\"Name cannot be empty.\")\n",
    "\n",
    "            age = int(input(\"Enter age: \"))\n",
    "            course = input(\"Enter course: \").strip()\n",
    "            year = int(input(\"Enter year level: \"))\n",
    "\n",
    "            student = {\n",
    "                \"Name\": name,\n",
    "                \"Age\": age,\n",
    "                \"Course\": course,\n",
    "                \"Year\": year\n",
    "            }\n",
    "            records.append(student)\n",
    "            print(\"✅ Student added successfully.\")\n",
    "\n",
    "            more = input(\"Add another student? (y/n): \").lower()\n",
    "            if more != 'y':\n",
    "                break\n",
    "        except ValueError as ve:\n",
    "            print(f\"⚠️ Invalid input: {ve}\")\n",
    "        except Exception as e:\n",
    "            print(f\"❌ Error: {e}\")\n",
    "    return records\n",
    "\n",
    "print(\"=== Task 4.1: Student Records File System ===\")\n",
    "\n",
    "pickle_file = \"student_records.pkl\"\n",
    "text_file = \"student_records.txt\"\n",
    "records = []\n",
    "\n",
    "while True:\n",
    "    print(\"\\n1. Create Student Records\")\n",
    "    print(\"2. Save Records (Pickle)\")\n",
    "    print(\"3. Load Records (Pickle)\")\n",
    "    print(\"4. Export Records to Text File\")\n",
    "    print(\"5. View Current Records\")\n",
    "    print(\"0. Exit\")\n",
    "\n",
    "    choice = input(\"Enter your choice: \")\n",
    "\n",
    "    if choice == '1':\n",
    "        records = create_sample_records()\n",
    "    elif choice == '2':\n",
    "        if records:\n",
    "            save_records(records, pickle_file)\n",
    "        else:\n",
    "            print(\"⚠️ No records to save. Please create records first.\")\n",
    "    elif choice == '3':\n",
    "        records = load_records(pickle_file)\n",
    "    elif choice == '4':\n",
    "        if records:\n",
    "            export_to_text(records, text_file)\n",
    "        else:\n",
    "            print(\"⚠️ No records to export. Please create or load records first.\")\n",
    "    elif choice == '5':\n",
    "        if not records:\n",
    "            print(\"⚠️ No records available.\")\n",
    "        else:\n",
    "            print(\"\\n📋 Current Records:\")\n",
    "            for i, s in enumerate(records, 1):\n",
    "                print(f\"{i}. {s}\")\n",
    "    elif choice == '0':\n",
    "        print(\"\\n👋 Exiting Task 4.1.\")\n",
    "        break\n",
    "    else:\n",
    "        print(\"❌ Invalid choice. Please try again.\")"
   ]
  },
  {
   "cell_type": "code",
   "execution_count": 3,
   "id": "d9a0175d-a2d0-453f-a2fb-26920042c139",
   "metadata": {},
   "outputs": [
    {
     "name": "stdout",
     "output_type": "stream",
     "text": [
      "=== Task 4.2: File Operations Practice ===\n",
      "\n",
      "✅ File 'demo_file.txt' created and written successfully.\n",
      "\n",
      "📖 Reading file contents:\n",
      "This is the first line (written in 'w' mode).\n",
      "\n",
      "✅ Text appended successfully to 'demo_file.txt'.\n"
     ]
    }
   ],
   "source": [
    "# Task 4.2: File Operations Practice\n",
    "def file_operations_demo():\n",
    "    \"\"\"Demonstrate writing, reading, and appending with error handling.\"\"\"\n",
    "    filename = \"demo_file.txt\"\n",
    "\n",
    "    try:\n",
    "        with open(filename, 'w') as file:\n",
    "            file.write(\"This is the first line (written in 'w' mode).\\n\")\n",
    "        print(f\"\\n✅ File '{filename}' created and written successfully.\")\n",
    "    except Exception as e:\n",
    "        print(f\"❌ Error writing to file: {e}\")\n",
    "\n",
    "    try:\n",
    "        with open(filename, 'r') as file:\n",
    "            print(\"\\n📖 Reading file contents:\")\n",
    "            print(file.read())\n",
    "    except FileNotFoundError:\n",
    "        print(f\"❌ File '{filename}' not found.\")\n",
    "    except Exception as e:\n",
    "        print(f\"❌ Error reading file: {e}\")\n",
    "\n",
    "    try:\n",
    "        with open(filename, 'a') as file:\n",
    "            file.write(\"This line was appended later.\\n\")\n",
    "        print(f\"✅ Text appended successfully to '{filename}'.\")\n",
    "    except Exception as e:\n",
    "        print(f\"❌ Error appending to file: {e}\")\n",
    "\n",
    "print(\"=== Task 4.2: File Operations Practice ===\")\n",
    "file_operations_demo()"
   ]
  },
  {
   "cell_type": "code",
   "execution_count": null,
   "id": "73e897f9-0e8a-46c2-a73c-502db3c612fb",
   "metadata": {},
   "outputs": [],
   "source": []
  }
 ],
 "metadata": {
  "kernelspec": {
   "display_name": "Python 3 (ipykernel)",
   "language": "python",
   "name": "python3"
  },
  "language_info": {
   "codemirror_mode": {
    "name": "ipython",
    "version": 3
   },
   "file_extension": ".py",
   "mimetype": "text/x-python",
   "name": "python",
   "nbconvert_exporter": "python",
   "pygments_lexer": "ipython3",
   "version": "3.12.7"
  }
 },
 "nbformat": 4,
 "nbformat_minor": 5
}
